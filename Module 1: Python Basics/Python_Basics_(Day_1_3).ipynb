{
  "nbformat": 4,
  "nbformat_minor": 0,
  "metadata": {
    "colab": {
      "provenance": []
    },
    "kernelspec": {
      "name": "python3",
      "display_name": "Python 3"
    },
    "language_info": {
      "name": "python"
    }
  },
  "cells": [
    {
      "cell_type": "markdown",
      "source": [
        "# **Practice Quiz**\n",
        "\n",
        "## 📝 **Coding Quiz for Module 1: Python Basics (Day 1-3)**  \n",
        "\n",
        "### **Instructions**  \n",
        "1. Solve the coding problems using Python.  \n",
        "2. Use Jupyter Notebook, Google Colab, or any Python IDE to execute your code.  \n",
        "3. Each problem tests your understanding of the concepts covered in the module.  \n",
        "\n",
        "---\n"
      ],
      "metadata": {
        "id": "jDCh03kVJEAk"
      }
    },
    {
      "cell_type": "markdown",
      "source": [
        "### **Section 1: Python Syntax and Data Types**  \n",
        "#### 1. **Basic Syntax and Variables**  \n",
        "- **Problem:** Write a program that takes a string input from the user and outputs the string in reverse order and in uppercase letters.  \n",
        "- **Input Example:** `hello world`  \n",
        "- **Output Example:** `DLROW OLLEH`\n",
        "\n",
        "---\n",
        "\n",
        "#### 2. **Data Type Conversion**  \n",
        "- **Problem:** Write a program that accepts a floating-point number from the user, converts it to an integer, and displays both the original number and the integer value.  \n",
        "- **Input Example:** `56.78`  \n",
        "- **Output Example:**  \n",
        "  ```\n",
        "  Original number: 56.78  \n",
        "  Integer value: 56\n",
        "  ```\n",
        "\n",
        "---\n",
        "\n",
        "### **Section 2: Control Flow and Conditional Statements**  \n",
        "#### 3. **If-Else Condition**  \n",
        "- **Problem:** Write a program that takes a year as input and checks whether it is a leap year.  \n",
        "- **Conditions for a Leap Year:**  \n",
        "  1. Divisible by 4.  \n",
        "  2. Not divisible by 100 unless divisible by 400.  \n",
        "- **Input Example:** `2000`  \n",
        "- **Output Example:** `2000 is a leap year.`\n",
        "\n",
        "---\n",
        "\n",
        "#### 4. **Nested If-Else**  \n",
        "- **Problem:** Write a program to take a number as input and print whether it is:  \n",
        "  - Positive  \n",
        "  - Negative  \n",
        "  - Zero  \n",
        "\n",
        "---\n",
        "\n",
        "#### 5. **Pattern Printing**  \n",
        "- **Problem:** Write a program to generate the following triangle pattern using nested loops:  \n",
        "  ```\n",
        "  *  \n",
        "  **  \n",
        "  ***  \n",
        "  ****  \n",
        "  *****  \n",
        "  ```\n",
        "\n",
        "---\n",
        "\n",
        "### **Section 3: Loops and Iterations**  \n",
        "#### 6. **While Loop**  \n",
        "- **Problem:** Write a Python program to find the sum of digits of a given number using a `while` loop.  \n",
        "- **Input Example:** `12345`  \n",
        "- **Output Example:** `15`  \n",
        "\n",
        "---\n",
        "\n",
        "#### 7. **For Loop with Range**  \n",
        "- **Problem:** Write a program to calculate and print the factorial of a given number using a `for` loop.  \n",
        "- **Input Example:** `5`  \n",
        "- **Output Example:** `120`\n",
        "\n",
        "---\n",
        "\n",
        "### **Section 4: Functions and Modular Code**  \n",
        "#### 8. **User-Defined Functions**  \n",
        "- **Problem:** Create a function named `is_prime(n)` that returns `True` if `n` is a prime number and `False` otherwise.  \n",
        "- **Input Example:** `7`  \n",
        "- **Output Example:** `True`\n",
        "\n",
        "---\n",
        "\n",
        "#### 9. **Default Parameters**  \n",
        "- **Problem:** Write a function `calculate_area(shape=\"circle\", radius=0, length=0, breadth=0)` that calculates the area of:  \n",
        "  - A circle if the shape is \"circle\".  \n",
        "  - A rectangle if the shape is \"rectangle\".  \n",
        "  - A square if the shape is \"square\".  \n",
        "- **Input Example:**  \n",
        "  ```\n",
        "  calculate_area(\"circle\", radius=7)  \n",
        "  calculate_area(\"rectangle\", length=5, breadth=10)\n",
        "  ```  \n",
        "- **Output Example:**  \n",
        "  ```\n",
        "  Area of circle: 153.86  \n",
        "  Area of rectangle: 50  \n",
        "  ```\n",
        "\n",
        "---\n",
        "\n",
        "### **Section 5: Strings and Lists**  \n",
        "#### 10. **String Manipulation**  \n",
        "- **Problem:** Write a program to count the number of vowels and consonants in a given string.  \n",
        "- **Input Example:** `Python Programming`  \n",
        "- **Output Example:**  \n",
        "  ```\n",
        "  Vowels: 4  \n",
        "  Consonants: 13\n",
        "  ```\n",
        "\n",
        "---\n",
        "\n",
        "#### 11. **List Operations**  \n",
        "- **Problem:** Write a program to find the second largest number in a list without using the `max()` or `sorted()` function.  \n",
        "- **Input Example:** `[5, 3, 9, 7, 2]`  \n",
        "- **Output Example:** `7`\n",
        "\n",
        "---\n",
        "\n",
        "### **Section 6: Error Handling**  \n",
        "#### 12. **Try-Except Block**  \n",
        "- **Problem:** Write a program that asks the user to input a number. If the user enters a non-integer value, catch the exception and print `\"Invalid input. Please enter a number.\"`  \n",
        "\n",
        "---\n",
        "\n",
        "## 📋 **Practice Quiz Questions (MCQs)**  \n",
        "1. Which of the following is NOT a valid variable name in Python?  \n",
        "   a) my_var  \n",
        "   b) 2var  \n",
        "   c) myVar  \n",
        "   d) _var  \n",
        "\n",
        "2. What will be the output of the following code?  \n",
        "   ```python\n",
        "   for i in range(1, 5):  \n",
        "       print(i * \"*\")  \n",
        "   ```  \n",
        "   a)  \n",
        "   ```  \n",
        "   *  \n",
        "   **  \n",
        "   ***  \n",
        "   ****  \n",
        "   ```  \n",
        "   b)  \n",
        "   ```  \n",
        "   1  \n",
        "   2  \n",
        "   3  \n",
        "   4  \n",
        "   ```  \n",
        "\n",
        "3. Which data type is mutable in Python?  \n",
        "   a) String  \n",
        "   b) Tuple  \n",
        "   c) List  \n",
        "   d) Integer  \n",
        "\n",
        "4. What will the following code return?  \n",
        "   ```python\n",
        "   def test():  \n",
        "       return \"Hello\", \"World\"  \n",
        "   print(type(test()))  \n",
        "   ```  \n",
        "   a) `<class 'str'>`  \n",
        "   b) `<class 'tuple'>`  \n",
        "   c) `<class 'list'>`  \n",
        "   d) `<class 'dict'>`  \n",
        "\n",
        "5. What is the output of the following code?  \n",
        "   ```python\n",
        "   x = [1, 2, 3]  \n",
        "   y = x  \n",
        "   y[0] = 5  \n",
        "   print(x)  \n",
        "   ```  \n",
        "   a) `[5, 2, 3]`  \n",
        "   b) `[1, 2, 3]`  \n",
        "   c) `Error`  \n",
        "   d) `[5, 5, 5]`  \n",
        "\n",
        "---"
      ],
      "metadata": {
        "id": "wz4RzQOmJi-Y"
      }
    },
    {
      "cell_type": "markdown",
      "source": [
        "# **Solutions:**"
      ],
      "metadata": {
        "id": "VnzwRQULRtX5"
      }
    },
    {
      "cell_type": "markdown",
      "source": [
        "#Question 1: Basic Syntax and Variables\n",
        "\n",
        "# Write a program that takes a string input from the user and outputs the string in reverse order and in uppercase letters.\n",
        "# Input Example: hello world\n",
        "# Output Example: DLROW OLLEH"
      ],
      "metadata": {
        "id": "Ngn4NdMMRytO"
      }
    },
    {
      "cell_type": "code",
      "source": [
        "string_input = input(\"Enter a string: \")\n",
        "print(string_input[::-1].upper())"
      ],
      "metadata": {
        "colab": {
          "base_uri": "https://localhost:8080/"
        },
        "id": "aSOEQYbdR0m1",
        "outputId": "d47b3b39-ffee-495a-fdef-d56d7bf9ec0a"
      },
      "execution_count": 1,
      "outputs": [
        {
          "output_type": "stream",
          "name": "stdout",
          "text": [
            "Enter a string: hello world\n",
            "DLROW OLLEH\n"
          ]
        }
      ]
    },
    {
      "cell_type": "markdown",
      "source": [
        "# Question 2: Data Type Conversion\n",
        "# Write a program that accepts a floating-point number from the user, converts it to an integer, and displays both.\n",
        "# Input Example: 56.78\n",
        "# Output Example: Original number: 56.78, Integer value: 56"
      ],
      "metadata": {
        "id": "0N5asRUHR_QY"
      }
    },
    {
      "cell_type": "code",
      "source": [
        "float_input = float(input(\"Enter a floating-point number: \"))\n",
        "print(f\"Original number: {float_input}, Integer value: {int(float_input)}\")"
      ],
      "metadata": {
        "colab": {
          "base_uri": "https://localhost:8080/"
        },
        "id": "T7U6r98fSCkn",
        "outputId": "8680b254-54b6-4491-f0d4-4a25a5fed492"
      },
      "execution_count": 2,
      "outputs": [
        {
          "output_type": "stream",
          "name": "stdout",
          "text": [
            "Enter a floating-point number: 56.78\n",
            "Original number: 56.78, Integer value: 56\n"
          ]
        }
      ]
    },
    {
      "cell_type": "markdown",
      "source": [
        "## Section 2: Control Flow and Conditional Statements\n",
        "\n",
        "# Question 3: If-Else Condition\n",
        "# Write a program that takes a year as input and checks whether it is a leap year.\n",
        "# Input Example: 2000\n",
        "# Output Example: 2000 is a leap year."
      ],
      "metadata": {
        "id": "8umqOwsySFl2"
      }
    },
    {
      "cell_type": "code",
      "source": [
        "year = int(input(\"Enter a year: \"))\n",
        "if (year % 4 == 0 and year % 100 != 0) or (year % 400 == 0):\n",
        "    print(f\"{year} is a leap year.\")\n",
        "else:\n",
        "    print(f\"{year} is not a leap year.\")"
      ],
      "metadata": {
        "colab": {
          "base_uri": "https://localhost:8080/"
        },
        "id": "hZUT8cxySJT9",
        "outputId": "f675baf3-e9d5-4dc7-cd1e-394482186fde"
      },
      "execution_count": 3,
      "outputs": [
        {
          "output_type": "stream",
          "name": "stdout",
          "text": [
            "Enter a year: 2000\n",
            "2000 is a leap year.\n"
          ]
        }
      ]
    },
    {
      "cell_type": "markdown",
      "source": [
        "# Question 4: Nested If-Else\n",
        "# Write a program to take a number as input and print whether it is positive, negative, or zero."
      ],
      "metadata": {
        "id": "qLjwptO-SLL6"
      }
    },
    {
      "cell_type": "code",
      "source": [
        "number = int(input(\"Enter a number: \"))\n",
        "if number > 0:\n",
        "    print(\"Positive\")\n",
        "elif number < 0:\n",
        "    print(\"Negative\")\n",
        "else:\n",
        "    print(\"Zero\")"
      ],
      "metadata": {
        "colab": {
          "base_uri": "https://localhost:8080/"
        },
        "id": "pH7VKqK_SSKy",
        "outputId": "17b55a76-8c3d-421e-db4b-a31954aba03a"
      },
      "execution_count": 4,
      "outputs": [
        {
          "output_type": "stream",
          "name": "stdout",
          "text": [
            "Enter a number: 18\n",
            "Positive\n"
          ]
        }
      ]
    },
    {
      "cell_type": "markdown",
      "source": [
        "# Question 5: Pattern Printing\n",
        "# Write a program to generate the following triangle pattern using nested loops:\n",
        "\n",
        "![Screenshot 2024-12-12 at 3.19.24 PM.png](data:image/png;base64,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)"
      ],
      "metadata": {
        "id": "1y8zDJUASUVm"
      }
    },
    {
      "cell_type": "code",
      "source": [
        "rows = 5\n",
        "for i in range(1, rows + 1):\n",
        "    print(\"*\" * i)"
      ],
      "metadata": {
        "colab": {
          "base_uri": "https://localhost:8080/"
        },
        "id": "E2feVR9ISYG2",
        "outputId": "191f569b-67a6-4311-f2dc-26eafc8601d7"
      },
      "execution_count": 5,
      "outputs": [
        {
          "output_type": "stream",
          "name": "stdout",
          "text": [
            "*\n",
            "**\n",
            "***\n",
            "****\n",
            "*****\n"
          ]
        }
      ]
    },
    {
      "cell_type": "markdown",
      "source": [
        "## Section 3: Loops and Iterations\n",
        "\n",
        "# Question 6: While Loop\n",
        "# Write a Python program to find the sum of digits of a given number using a `while` loop.\n",
        "# Input Example: 12345\n",
        "# Output Example: 15"
      ],
      "metadata": {
        "id": "zJXcWPw0SbT9"
      }
    },
    {
      "cell_type": "code",
      "source": [
        "num = int(input(\"Enter a number: \"))\n",
        "sum_of_digits = 0\n",
        "while num > 0:\n",
        "    sum_of_digits += num % 10\n",
        "    num //= 10\n",
        "print(f\"Sum of digits: {sum_of_digits}\")"
      ],
      "metadata": {
        "colab": {
          "base_uri": "https://localhost:8080/"
        },
        "id": "U3qpvbBsSeuM",
        "outputId": "28e415d5-5e98-4464-fddb-2d71a9118ddc"
      },
      "execution_count": 6,
      "outputs": [
        {
          "output_type": "stream",
          "name": "stdout",
          "text": [
            "Enter a number: 12345\n",
            "Sum of digits: 15\n"
          ]
        }
      ]
    },
    {
      "cell_type": "markdown",
      "source": [
        "# Question 7: For Loop with Range\n",
        "# Write a program to calculate and print the factorial of a given number using a `for` loop.\n",
        "# Input Example: 5\n",
        "# Output Example: 120"
      ],
      "metadata": {
        "id": "Z28hQsbbSj3c"
      }
    },
    {
      "cell_type": "code",
      "source": [
        "factorial = 1\n",
        "n = int(input(\"Enter a number: \"))\n",
        "for i in range(1, n + 1):\n",
        "    factorial *= i\n",
        "print(f\"Factorial: {factorial}\")"
      ],
      "metadata": {
        "colab": {
          "base_uri": "https://localhost:8080/"
        },
        "id": "ohy8QzIySmo9",
        "outputId": "fa7e38f3-b688-4f29-aada-b0cec30eaec1"
      },
      "execution_count": 7,
      "outputs": [
        {
          "output_type": "stream",
          "name": "stdout",
          "text": [
            "Enter a number: 5\n",
            "Factorial: 120\n"
          ]
        }
      ]
    },
    {
      "cell_type": "markdown",
      "source": [
        "## Section 4: Functions and Modular Code\n",
        "\n",
        "# Question 8: User-Defined Functions\n",
        "# Create a function named `is_prime(n)` that returns True if `n` is a prime number and False otherwise."
      ],
      "metadata": {
        "id": "7szj_-tqSpBZ"
      }
    },
    {
      "cell_type": "code",
      "source": [
        "def is_prime(n):\n",
        "    if n <= 1:\n",
        "        return False\n",
        "    for i in range(2, int(n**0.5) + 1):\n",
        "        if n % i == 0:\n",
        "            return False\n",
        "    return True\n",
        "\n",
        "number = int(input(\"Enter a number: \"))\n",
        "print(f\"Is {number} prime? {is_prime(number)}\")"
      ],
      "metadata": {
        "colab": {
          "base_uri": "https://localhost:8080/"
        },
        "id": "_rFT1clKSrkK",
        "outputId": "e55d89b5-b843-490f-d661-4f71e631fb32"
      },
      "execution_count": 8,
      "outputs": [
        {
          "output_type": "stream",
          "name": "stdout",
          "text": [
            "Enter a number: 11\n",
            "Is 11 prime? True\n"
          ]
        }
      ]
    },
    {
      "cell_type": "markdown",
      "source": [
        "# Question 9: Default Parameters\n",
        "# Write a function `calculate_area` to calculate the area of a circle, rectangle, or square."
      ],
      "metadata": {
        "id": "epUTNQ9QSufD"
      }
    },
    {
      "cell_type": "code",
      "source": [
        "def calculate_area(shape=\"circle\", radius=0, length=0, breadth=0):\n",
        "    if shape == \"circle\":\n",
        "        return 3.1416 * radius**2\n",
        "    elif shape == \"rectangle\":\n",
        "        return length * breadth\n",
        "    elif shape == \"square\":\n",
        "        return length**2\n",
        "\n",
        "print(\"Circle Area:\", calculate_area(\"circle\", radius=7))\n",
        "print(\"Rectangle Area:\", calculate_area(\"rectangle\", length=5, breadth=10))"
      ],
      "metadata": {
        "colab": {
          "base_uri": "https://localhost:8080/"
        },
        "id": "I1_3hHMhSwvE",
        "outputId": "298cfdd9-5f67-4931-e6d0-efdc40c8a780"
      },
      "execution_count": 9,
      "outputs": [
        {
          "output_type": "stream",
          "name": "stdout",
          "text": [
            "Circle Area: 153.9384\n",
            "Rectangle Area: 50\n"
          ]
        }
      ]
    },
    {
      "cell_type": "markdown",
      "source": [
        "## Section 5: Strings and Lists\n",
        "\n",
        "# Question 10: String Manipulation\n",
        "# Write a program to count the number of vowels and consonants in a given string."
      ],
      "metadata": {
        "id": "MBcn0T3RS0cG"
      }
    },
    {
      "cell_type": "code",
      "source": [
        "string = input(\"Enter a string: \").lower()\n",
        "vowels = \"aeiou\"\n",
        "vowel_count = sum(1 for char in string if char in vowels)\n",
        "consonant_count = sum(1 for char in string if char.isalpha() and char not in vowels)\n",
        "print(f\"Vowels: {vowel_count}, Consonants: {consonant_count}\")"
      ],
      "metadata": {
        "colab": {
          "base_uri": "https://localhost:8080/"
        },
        "id": "a79DX8PiS2ey",
        "outputId": "7397fc80-c8ad-44f8-8c78-4c21f44b9aae"
      },
      "execution_count": 10,
      "outputs": [
        {
          "output_type": "stream",
          "name": "stdout",
          "text": [
            "Enter a string: hello\n",
            "Vowels: 2, Consonants: 3\n"
          ]
        }
      ]
    },
    {
      "cell_type": "markdown",
      "source": [
        "# Question 11: List Operations\n",
        "# Write a program to find the second largest number in a list without using `max()` or `sorted()`."
      ],
      "metadata": {
        "id": "kfVT3o5dS48r"
      }
    },
    {
      "cell_type": "code",
      "source": [
        "nums = list(map(int, input(\"Enter numbers separated by spaces: \").split()))\n",
        "first, second = float('-inf'), float('-inf')\n",
        "for num in nums:\n",
        "    if num > first:\n",
        "        second = first\n",
        "        first = num\n",
        "    elif first > num > second:\n",
        "        second = num\n",
        "print(f\"Second largest number: {second}\")"
      ],
      "metadata": {
        "colab": {
          "base_uri": "https://localhost:8080/"
        },
        "id": "WcHQSHktS7w4",
        "outputId": "055b3c0c-8a51-4c40-a8c4-c912be3f527b"
      },
      "execution_count": 11,
      "outputs": [
        {
          "output_type": "stream",
          "name": "stdout",
          "text": [
            "Enter numbers separated by spaces: 2 4 7 3 9\n",
            "Second largest number: 7\n"
          ]
        }
      ]
    }
  ]
}