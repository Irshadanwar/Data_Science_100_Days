{
  "nbformat": 4,
  "nbformat_minor": 0,
  "metadata": {
    "colab": {
      "provenance": []
    },
    "kernelspec": {
      "name": "python3",
      "display_name": "Python 3"
    },
    "language_info": {
      "name": "python"
    }
  },
  "cells": [
    {
      "cell_type": "markdown",
      "source": [
        "# 🧩 **Quiz: Python Data Structures (Lists, Tuples, Sets, Dictionaries)**\n",
        "\n",
        "Welcome to the quiz for **Module 2**! 🚀 Test your knowledge of Python data structures and apply what you've learned in this interactive notebook. Good luck 🌟"
      ],
      "metadata": {
        "id": "8Yg6O7hx6etP"
      }
    },
    {
      "cell_type": "markdown",
      "source": [
        "---\n",
        "\n",
        "## **Instructions**\n",
        "1. Each question contains a coding task or problem.\n",
        "2. Write your code in the cell provided under each question.\n",
        "3. Run the cell to check your answer.\n",
        "4. Use the hints if you get stuck (but try not to!).\n",
        "\n",
        "---"
      ],
      "metadata": {
        "id": "vPcKklv46jW4"
      }
    },
    {
      "cell_type": "markdown",
      "source": [
        "---\n",
        "\n",
        "### **Question 1: Lists - Basic Operations**\n",
        "\n",
        "Create a list of the first 10 positive integers. Then, do the following:\n",
        "1. Add the number `11` to the end of the list.\n",
        "2. Remove the number `5` from the list.\n",
        "3. Replace the first number in the list with `0`.\n",
        "4. Print the final list.\n",
        "\n",
        "Write your solution below:\n",
        "---"
      ],
      "metadata": {
        "id": "3GpKwdet7ALL"
      }
    },
    {
      "cell_type": "code",
      "source": [],
      "metadata": {
        "id": "tISwIMTC7MTk"
      },
      "execution_count": null,
      "outputs": []
    },
    {
      "cell_type": "markdown",
      "source": [
        "---\n",
        "\n",
        "### **Question 2: Tuples - Immutability**\n",
        "\n",
        "You are given the tuple:\n",
        "```python\n",
        "numbers = (1, 2, 3, 4, 5)\n",
        "```\n",
        "Perform the following tasks:\n",
        "1. Extract the last three elements as a new tuple.\n",
        "2. Find the sum of all elements in the tuple.\n",
        "3. Attempt to replace the second element with `10` and note the result (write a comment explaining why it doesn't work).\n",
        "\n",
        "Write your solution below:\n",
        "\n",
        "---"
      ],
      "metadata": {
        "id": "gsJsjVf97NRN"
      }
    },
    {
      "cell_type": "code",
      "source": [],
      "metadata": {
        "id": "zvWJh58y7bzz"
      },
      "execution_count": null,
      "outputs": []
    },
    {
      "cell_type": "markdown",
      "source": [
        "\n",
        "### **Question 2: Tuples - Immutability**\n",
        "\n",
        "You are given the tuple:\n",
        "```python\n",
        "numbers = (1, 2, 3, 4, 5)\n",
        "```\n",
        "Perform the following tasks:\n",
        "1. Extract the last three elements as a new tuple.\n",
        "2. Find the sum of all elements in the tuple.\n",
        "3. Attempt to replace the second element with `10` and note the result (write a comment explaining why it doesn't work).\n",
        "---"
      ],
      "metadata": {
        "id": "0RDb8qHT7djR"
      }
    },
    {
      "cell_type": "code",
      "source": [],
      "metadata": {
        "id": "HIGGz6rW7i9U"
      },
      "execution_count": null,
      "outputs": []
    },
    {
      "cell_type": "markdown",
      "source": [
        "### **Question 3: Sets - Unique Elements**\n",
        "\n",
        "You are given the following list with duplicates:\n",
        "```python\n",
        "items = [\"apple\", \"banana\", \"apple\", \"cherry\", \"banana\", \"date\"]\n",
        "```\n",
        "Perform the following tasks:\n",
        "1. Convert the list into a set to remove duplicates.\n",
        "2. Add the element `\"grape\"` to the set.\n",
        "3. Check if `\"orange\"` is in the set.\n",
        "4. Print the final set.\n",
        "---"
      ],
      "metadata": {
        "id": "RPRFRLlu7jjA"
      }
    },
    {
      "cell_type": "code",
      "source": [],
      "metadata": {
        "id": "x3OUpTSF7lSM"
      },
      "execution_count": null,
      "outputs": []
    },
    {
      "cell_type": "markdown",
      "source": [
        "### **Question 4: Dictionaries - Key-Value Pairs**\n",
        "\n",
        "You are given the following dictionary:\n",
        "```python\n",
        "student_grades = {\"Alice\": 85, \"Bob\": 90, \"Charlie\": 78}\n",
        "```\n",
        "Perform the following tasks:\n",
        "1. Add a new student, `\"David\"`, with a grade of `92`.\n",
        "2. Update `\"Alice\"`'s grade to `88`.\n",
        "3. Remove `\"Charlie\"` from the dictionary.\n",
        "4. Print all the student names and their grades in the format:\n",
        "   ```\n",
        "   Alice: 88\n",
        "   Bob: 90\n",
        "   David: 92\n",
        "   ```\n",
        "\n",
        "Write your solution below:\n",
        "---"
      ],
      "metadata": {
        "id": "rqBifI567lh1"
      }
    },
    {
      "cell_type": "code",
      "source": [],
      "metadata": {
        "id": "r6GcBzq77qL3"
      },
      "execution_count": null,
      "outputs": []
    },
    {
      "cell_type": "markdown",
      "source": [
        "### **Question 5: Advanced - Nested Data Structures**\n",
        "\n",
        "You are given the following nested dictionary:\n",
        "```python\n",
        "inventory = {\n",
        "    \"fruits\": {\"apple\": 10, \"banana\": 25},\n",
        "    \"vegetables\": {\"carrot\": 15, \"spinach\": 5}\n",
        "}\n",
        "```\n",
        "Perform the following tasks:\n",
        "1. Add a new fruit, `\"grape\"`, with a quantity of `20`.\n",
        "2. Update the quantity of `\"carrot\"` to `18`.\n",
        "3. Remove `\"spinach\"` from the vegetables.\n",
        "4. Print the updated dictionary.\n",
        "---"
      ],
      "metadata": {
        "id": "MtrcR_1D7qb6"
      }
    },
    {
      "cell_type": "markdown",
      "source": [
        "# Solution"
      ],
      "metadata": {
        "id": "cHXpYl5v8CFt"
      }
    },
    {
      "cell_type": "code",
      "source": [
        "# Solution\n",
        "original_dict = {'a': 1, 'b': 2, 'c': 3}\n",
        "reversed_dict = {value: key for key, value in original_dict.items()}\n",
        "print(\"Reversed dictionary:\", reversed_dict)"
      ],
      "metadata": {
        "id": "O5AZvMUf7uHU"
      },
      "execution_count": null,
      "outputs": []
    },
    {
      "cell_type": "markdown",
      "source": [
        "## 🎉 **Congratulations**\n",
        "\n",
        "If you've answered all the questions, you've mastered the basics of Python data structures 🚀\n",
        "Keep practicing and experimenting to strengthen your skills. 💪\n"
      ],
      "metadata": {
        "id": "n8ICRQJj7uUI"
      }
    }
  ]
}